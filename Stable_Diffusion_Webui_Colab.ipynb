{
  "nbformat": 4,
  "nbformat_minor": 0,
  "metadata": {
    "colab": {
      "provenance": [],
      "private_outputs": true,
      "collapsed_sections": [
        "3zxV1Ul5rtIW",
        "atssWxg9x8sx",
        "OKSogWe-6ZD2",
        "JvVVp8d-7BMK",
        "Ljw4bOLd4cd3",
        "PlS4BeN_iDt6",
        "5BRQmOP2Fg8I",
        "bKbbd-2gkJor",
        "KGvle-9nDyPf",
        "DHsO-5uL2kov",
        "Xot59Arf2_v7"
      ],
      "include_colab_link": true
    },
    "kernelspec": {
      "name": "python3",
      "display_name": "Python 3"
    },
    "language_info": {
      "name": "python"
    },
    "accelerator": "GPU",
    "gpuClass": "standard"
  },
  "cells": [
    {
      "cell_type": "markdown",
      "metadata": {
        "id": "view-in-github",
        "colab_type": "text"
      },
      "source": [
        "<a href=\"https://colab.research.google.com/github/lilidan/Blog/blob/master/Stable_Diffusion_Webui_Colab.ipynb\" target=\"_parent\"><img src=\"https://colab.research.google.com/assets/colab-badge.svg\" alt=\"Open In Colab\"/></a>"
      ]
    },
    {
      "cell_type": "markdown",
      "source": [
        "# AI繪圖使用說明\n",
        "\n",
        "先打開**執行階段 變更執行階段類型 硬體加速器選擇GPU**\n",
        "\n",
        "首次執行時\n",
        "\n",
        "1.  按**前置步驟**\n",
        "2.  至**SD模型下載**選擇model\n",
        "3.  **執行程式**\n",
        "4.  **保存檔案**前先停止**執行程式**\n",
        "\n",
        "非首次執行\n",
        "\n",
        "1. 按**前置步驟**\n",
        "2. **執行程式**\n",
        "\n",
        "不使用時，在**執行階段**選擇**中斷連線**\n",
        "\n",
        "中斷前請先**保存檔案**"
      ],
      "metadata": {
        "id": "AVQgtZ11rk44"
      }
    },
    {
      "cell_type": "markdown",
      "source": [
        "巴哈原文及參考資料：\n",
        "\n",
        "[巴哈原文](https://home.gamer.com.tw/artwork.php?sn=5661358)\n",
        "\n",
        "[本地搭建NovelAi](https://mirai.mamoe.net/topic/1659/%E6%9C%AC%E5%9C%B0%E6%90%AD%E5%BB%BAnovelai-%E5%85%8D%E8%B4%B9%E7%9A%84%E8%89%B2%E5%9B%BE%E7%94%9F%E6%88%90%E5%99%A8-%E5%8F%AF%E7%94%A8colab%E5%9C%A8%E7%BA%BF%E8%BF%90%E8%A1%8C?lang=zh-TW)\n",
        "\n",
        "[不用幾分鐘就能弄好的免費NovelAI畫圖 AI繪圖](https://home.gamer.com.tw/artwork.php?sn=5577290)\n",
        "\n",
        "[想玩AI繪圖卻不會架?顯卡太爛跑不動怎麼辦?使用Colab運行Anything V3.0 AI繪圖](https://home.gamer.com.tw/artwork.php?sn=5607797)"
      ],
      "metadata": {
        "id": "ZmZlre8C89Rr"
      }
    },
    {
      "cell_type": "markdown",
      "source": [
        "# 前置步驟"
      ],
      "metadata": {
        "id": "3zxV1Ul5rtIW"
      }
    },
    {
      "cell_type": "code",
      "source": [
        "#@title 開啟雲端權限\n",
        "import os\n",
        "from google.colab import drive\n",
        "\n",
        "drive.mount(\"/content/drive/\")\n",
        "%cd /content/drive/MyDrive\n",
        "if not os.path.exists('Stable_Diffusion_Webui'):\n",
        "  !mkdir Stable_Diffusion_Webui\n",
        "%cd Stable_Diffusion_Webui\n",
        "!wget -nc https://huggingface.co/WuLing/my_vae/resolve/main/config.json\n",
        "if not os.path.exists('Stable-diffusion'):\n",
        "  !mkdir Stable-diffusion\n",
        "if not os.path.exists('VAE'):\n",
        "  !mkdir VAE\n",
        "if not os.path.exists('embeddings'):\n",
        "  !mkdir embeddings\n",
        "if not os.path.exists('Lora'):\n",
        "  if os.path.exists('lora'):\n",
        "    !mv lora Lora\n",
        "  else:\n",
        "    !mkdir Lora"
      ],
      "metadata": {
        "id": "Mha48iWMGjJ-",
        "cellView": "form"
      },
      "execution_count": null,
      "outputs": []
    },
    {
      "cell_type": "code",
      "source": [
        "#@title 下載 stable-diffusion-webui\n",
        "%cd /content\n",
        "!git clone https://github.com/AUTOMATIC1111/stable-diffusion-webui"
      ],
      "metadata": {
        "id": "LWcqClo_GVvN",
        "cellView": "form"
      },
      "execution_count": null,
      "outputs": []
    },
    {
      "cell_type": "code",
      "source": [
        "#@title 導入SD模型\n",
        "!cp -r /content/drive/MyDrive/Stable_Diffusion_Webui/Stable-diffusion /content/stable-diffusion-webui/models/"
      ],
      "metadata": {
        "id": "5k8CSWETleJD",
        "cellView": "form"
      },
      "execution_count": null,
      "outputs": []
    },
    {
      "cell_type": "code",
      "source": [
        "#@title 導入VAE模型\n",
        "!cp -r /content/drive/MyDrive/Stable_Diffusion_Webui/VAE /content/stable-diffusion-webui/models/"
      ],
      "metadata": {
        "id": "sr8osKId1UZV",
        "cellView": "form"
      },
      "execution_count": null,
      "outputs": []
    },
    {
      "cell_type": "code",
      "source": [
        "#@title 導入embeddings\n",
        "!cp -r /content/drive/MyDrive/Stable_Diffusion_Webui/embeddings /content/stable-diffusion-webui/"
      ],
      "metadata": {
        "id": "mzf56boW80FR",
        "cellView": "form"
      },
      "execution_count": null,
      "outputs": []
    },
    {
      "cell_type": "code",
      "source": [
        "#@title 導入 LoRA 檔\n",
        "#@markdown 先將 LoRA 檔放在 Stable_Diffusion_Webui 內的 Lora 資料夾中\n",
        "!cp -r /content/drive/MyDrive/Stable_Diffusion_Webui/Lora /content/stable-diffusion-webui/models/\n"
      ],
      "metadata": {
        "id": "nm7oIOz0lZ_r",
        "cellView": "form"
      },
      "execution_count": null,
      "outputs": []
    },
    {
      "cell_type": "code",
      "source": [
        "#@title 導入設定檔\n",
        "%cd /content/drive/MyDrive/Stable_Diffusion_Webui\n",
        "\n",
        "if os.path.exists('config.json'):\n",
        "  !cp /content/drive/MyDrive/Stable_Diffusion_Webui/config.json /content/stable-diffusion-webui/\n",
        "if os.path.exists('styles.csv'):\n",
        "  !cp /content/drive/MyDrive/Stable_Diffusion_Webui/styles.csv /content/stable-diffusion-webui/"
      ],
      "metadata": {
        "id": "S_otWve240jM",
        "cellView": "form"
      },
      "execution_count": null,
      "outputs": []
    },
    {
      "cell_type": "markdown",
      "source": [
        "# SD模型下載"
      ],
      "metadata": {
        "id": "ARxB0CPz0-H8"
      }
    },
    {
      "cell_type": "markdown",
      "source": [
        "## [AnythingV3](https://huggingface.co/Linaqruf/anything-v3.0)"
      ],
      "metadata": {
        "id": "atssWxg9x8sx"
      }
    },
    {
      "cell_type": "code",
      "source": [
        "#@title 下載 anything-v3-fp32-pruned.safetensors\n",
        "\n",
        "%cd /content/drive/MyDrive/Stable_Diffusion_Webui/Stable-diffusion\n",
        "\n",
        "print(\"下載SD模型...\") \n",
        "!wget -nc https://huggingface.co/Linaqruf/anything-v3.0/resolve/main/anything-v3-fp32-pruned.safetensors\n",
        "print(\"導入SD模型...\")\n",
        "!cp /content/drive/MyDrive/Stable_Diffusion_Webui/Stable-diffusion/anything-v3-fp32-pruned.safetensors /content/stable-diffusion-webui/models/Stable-diffusion"
      ],
      "metadata": {
        "id": "ynaW64_dJZeG",
        "cellView": "form"
      },
      "execution_count": null,
      "outputs": []
    },
    {
      "cell_type": "code",
      "source": [
        "#@title 下載 Anything-V3.0-vae.pt\n",
        "#@markdown VAE 開啟後圖片色彩比較豐富\n",
        "\n",
        "#@markdown 到 Settings > Stable Diffusion > SD VAE 設定\n",
        "\n",
        "#@markdown 記得要按下 Apply settings\n",
        "%cd /content/drive/MyDrive/Stable_Diffusion_Webui/VAE\n",
        "\n",
        "print(\"下載VAE...\")\n",
        "!wget -nc https://huggingface.co/WuLing/my_vae/resolve/main/Anything-V3.0.vae.pt \n",
        "print(\"導入VAE...\")\n",
        "!cp /content/drive/MyDrive/Stable_Diffusion_Webui/VAE/Anything-V3.0.vae.pt /content/stable-diffusion-webui/models/VAE/"
      ],
      "metadata": {
        "id": "GPO8_qr9iEsc",
        "cellView": "form"
      },
      "execution_count": null,
      "outputs": []
    },
    {
      "cell_type": "markdown",
      "source": [
        "## [AnythingV4.5](https://huggingface.co/andite/anything-v4.0)"
      ],
      "metadata": {
        "id": "OKSogWe-6ZD2"
      }
    },
    {
      "cell_type": "code",
      "source": [
        "#@title 下載 anything-v4.5-pruned.safetensors\n",
        "\n",
        "%cd /content/drive/MyDrive/Stable_Diffusion_Webui/Stable-diffusion\n",
        "\n",
        "print(\"下載SD模型...\") \n",
        "!wget -nc https://huggingface.co/andite/anything-v4.0/resolve/main/anything-v4.5-pruned.safetensors\n",
        "print(\"導入SD模型...\")\n",
        "!cp /content/drive/MyDrive/Stable_Diffusion_Webui/Stable-diffusion/anything-v4.5-pruned.safetensors /content/stable-diffusion-webui/models/Stable-diffusion/"
      ],
      "metadata": {
        "id": "XdNrFMRE6ZEG",
        "cellView": "form"
      },
      "execution_count": null,
      "outputs": []
    },
    {
      "cell_type": "markdown",
      "source": [
        "## [AbyssOrangeMix2_sfw](https://huggingface.co/WarriorMama777/OrangeMixs)\n",
        "光影畫風"
      ],
      "metadata": {
        "id": "JvVVp8d-7BMK"
      }
    },
    {
      "cell_type": "code",
      "source": [
        "#@title 下載 AbyssOrangeMix2_sfw.safetensors\n",
        "\n",
        "%cd /content/drive/MyDrive/Stable_Diffusion_Webui/Stable-diffusion\n",
        "\n",
        "print(\"下載SD模型...\") \n",
        "!wget -nc https://huggingface.co/WarriorMama777/OrangeMixs/resolve/main/Models/AbyssOrangeMix2/AbyssOrangeMix2_sfw.safetensors\n",
        "print(\"導入SD模型...\")\n",
        "!cp /content/drive/MyDrive/Stable_Diffusion_Webui/Stable-diffusion/AbyssOrangeMix2_sfw.safetensors /content/stable-diffusion-webui/models/Stable-diffusion/"
      ],
      "metadata": {
        "id": "UZ2-sDjb7BMM",
        "cellView": "form"
      },
      "execution_count": null,
      "outputs": []
    },
    {
      "cell_type": "code",
      "source": [
        "#@title 下載 orangemix.vae.pt\n",
        "#@markdown VAE 開啟後圖片色彩比較豐富\n",
        "\n",
        "#@markdown 到 Settings > Stable Diffusion > SD VAE 設定\n",
        "\n",
        "#@markdown 記得要按下 Apply settings\n",
        "%cd /content/drive/MyDrive/Stable_Diffusion_Webui/VAE\n",
        "\n",
        "print(\"下載VAE...\")\n",
        "!wget -nc https://huggingface.co/WarriorMama777/OrangeMixs/resolve/main/VAEs/orangemix.vae.pt\n",
        "print(\"導入VAE...\")\n",
        "!cp /content/drive/MyDrive/Stable_Diffusion_Webui/VAE/orangemix.vae.pt /content/stable-diffusion-webui/models/VAE/"
      ],
      "metadata": {
        "id": "QW17bxdp7BMN",
        "cellView": "form"
      },
      "execution_count": null,
      "outputs": []
    },
    {
      "cell_type": "markdown",
      "source": [
        "## [AbyssOrangeMix3](https://huggingface.co/WarriorMama777/OrangeMixs)\n",
        "光影畫風"
      ],
      "metadata": {
        "id": "Ljw4bOLd4cd3"
      }
    },
    {
      "cell_type": "code",
      "source": [
        "#@title 下載 AOM3.safetensors\n",
        "\n",
        "%cd /content/drive/MyDrive/Stable_Diffusion_Webui/Stable-diffusion\n",
        "\n",
        "print(\"下載SD模型...\") \n",
        "!wget -nc https://huggingface.co/WarriorMama777/OrangeMixs/resolve/main/Models/AbyssOrangeMix3/AOM3.safetensors\n",
        "print(\"導入SD模型...\")\n",
        "!cp /content/drive/MyDrive/Stable_Diffusion_Webui/Stable-diffusion/AOM3.safetensors /content/stable-diffusion-webui/models/Stable-diffusion/"
      ],
      "metadata": {
        "cellView": "form",
        "id": "J4WEjHKU4cd4"
      },
      "execution_count": null,
      "outputs": []
    },
    {
      "cell_type": "code",
      "source": [
        "#@title 下載 orangemix.vae.pt\n",
        "#@markdown VAE 開啟後圖片色彩比較豐富\n",
        "\n",
        "#@markdown 到 Settings > Stable Diffusion > SD VAE 設定\n",
        "\n",
        "#@markdown 記得要按下 Apply settings\n",
        "%cd /content/drive/MyDrive/Stable_Diffusion_Webui/VAE\n",
        "\n",
        "print(\"下載VAE...\")\n",
        "!wget -nc https://huggingface.co/WarriorMama777/OrangeMixs/resolve/main/VAEs/orangemix.vae.pt\n",
        "print(\"導入VAE...\")\n",
        "!cp /content/drive/MyDrive/Stable_Diffusion_Webui/VAE/orangemix.vae.pt /content/stable-diffusion-webui/models/VAE/"
      ],
      "metadata": {
        "id": "VhL004VX4cd6",
        "cellView": "form"
      },
      "execution_count": null,
      "outputs": []
    },
    {
      "cell_type": "markdown",
      "source": [
        "## [Chilloutmix](https://huggingface.co/TASUKU2023/Chilloutmix)\n",
        "仿Cosplay寫實畫風\n"
      ],
      "metadata": {
        "id": "PlS4BeN_iDt6"
      }
    },
    {
      "cell_type": "code",
      "source": [
        "#@title 下載 chilloutmix_NiPrunedFp32.safetensors\n",
        "\n",
        "%cd /content/drive/MyDrive/Stable_Diffusion_Webui/Stable-diffusion\n",
        "\n",
        "print(\"下載SD模型...\") \n",
        "!wget -nc https://huggingface.co/WuLing/Chilloutmix_package/resolve/main/chilloutmix_NiPrunedFp32.safetensors\n",
        "print(\"導入SD模型...\")\n",
        "!cp /content/drive/MyDrive/Stable_Diffusion_Webui/Stable-diffusion/chilloutmix_NiPrunedFp32.safetensors /content/stable-diffusion-webui/models/Stable-diffusion/"
      ],
      "metadata": {
        "id": "6oPSSdFOiDt7",
        "cellView": "form"
      },
      "execution_count": null,
      "outputs": []
    },
    {
      "cell_type": "code",
      "source": [
        "#@title 下載 vae-ft-mse-840000-ema-pruned.safetensors \n",
        "#@markdown VAE 開啟後圖片色彩比較豐富，到 setting 中間排下拉尋找選項更改並儲存\n",
        "%cd /content/drive/MyDrive/Stable_Diffusion_Webui/VAE\n",
        "\n",
        "print(\"下載VAE...\")\n",
        "!wget -nc https://huggingface.co/WuLing/Chilloutmix_package/resolve/main/vae-ft-mse-840000-ema-pruned.safetensors\n",
        "print(\"導入VAE...\")\n",
        "!cp /content/drive/MyDrive/Stable_Diffusion_Webui/VAE/vae-ft-mse-840000-ema-pruned.safetensors /content/stable-diffusion-webui/models/VAE/"
      ],
      "metadata": {
        "id": "akUOduiPiDt7",
        "cellView": "form"
      },
      "execution_count": null,
      "outputs": []
    },
    {
      "cell_type": "code",
      "source": [
        "#@title 下載 [ulzzang-6500-v1.1.bin](https://civitai.com/models/8109/ulzzang-6500-korean-doll-aesthetic)\n",
        "#@markdown embedding 觸發詞:\n",
        "\n",
        "#@markdown ulzzang\n",
        "%cd /content/drive/MyDrive/Stable_Diffusion_Webui/embeddings\n",
        "\n",
        "print(\"下載embedding...\")\n",
        "!wget -nc --content-disposition https://civitai.com/api/download/models/10107\n",
        "print(\"導入embedding...\")\n",
        "!cp /content/drive/MyDrive/Stable_Diffusion_Webui/embeddings/ulzzang-6500-v1.1.bin /content/stable-diffusion-webui/embeddings/"
      ],
      "metadata": {
        "id": "qQw3yEA2ilTr",
        "cellView": "form"
      },
      "execution_count": null,
      "outputs": []
    },
    {
      "cell_type": "code",
      "source": [
        "#@title 下載 [koreanDollLikeness_v10.safetensors](https://civitai.com/models/7448/korean-doll-likeness)\n",
        "#@markdown lora 觸發詞:\n",
        "\n",
        "#@markdown \\<lora:koreanDollLikeness_v10:0.5\\>\n",
        "\n",
        "%cd /content/drive/MyDrive/Stable_Diffusion_Webui/Lora\n",
        "\n",
        "print(\"下載lora...\")\n",
        "!wget -nc --content-disposition https://civitai.com/api/download/models/8750\n",
        "print(\"導入lora...\")\n",
        "!cp /content/drive/MyDrive/Stable_Diffusion_Webui/Lora/koreanDollLikeness_v10.safetensors /content/stable-diffusion-webui/models/Lora/"
      ],
      "metadata": {
        "cellView": "form",
        "id": "vzQuV75-9M77"
      },
      "execution_count": null,
      "outputs": []
    },
    {
      "cell_type": "code",
      "source": [
        "#@title 下載 [taiwanDollLikeness_v10.safetensors](https://civitai.com/models/7716/taiwan-doll-likeness)\n",
        "#@markdown lora 觸發詞:\n",
        "\n",
        "#@markdown \\<lora:taiwanDollLikeness_v10:0.5\\>\n",
        "\n",
        "%cd /content/drive/MyDrive/Stable_Diffusion_Webui/Lora\n",
        "\n",
        "print(\"下載lora...\")\n",
        "!wget -nc --content-disposition https://civitai.com/api/download/models/9070\n",
        "print(\"導入lora...\")\n",
        "!cp /content/drive/MyDrive/Stable_Diffusion_Webui/Lora/taiwanDollLikeness_v10.safetensors /content/stable-diffusion-webui/models/Lora/"
      ],
      "metadata": {
        "cellView": "form",
        "id": "agJSG7vH_V9k"
      },
      "execution_count": null,
      "outputs": []
    },
    {
      "cell_type": "markdown",
      "source": [
        "## 網址下載\n"
      ],
      "metadata": {
        "id": "5BRQmOP2Fg8I"
      }
    },
    {
      "cell_type": "code",
      "source": [
        "#@title 網址下載\n",
        "model_type = \"lora\" #@param [\"stable diffusion\", \"vae\", \"embedding\", \"lora\"]\n",
        "model_path = \"\" #@param {type:\"string\"}\n",
        "if model_type == \"stable diffusion\":\n",
        "  drive_path = \"/content/drive/MyDrive/Stable_Diffusion_Webui/Stable-diffusion\"\n",
        "  colab_path = \"/content/stable-diffusion-webui/models/\"\n",
        "elif model_type == \"vae\":\n",
        "  drive_path = \"/content/drive/MyDrive/Stable_Diffusion_Webui/VAE\"\n",
        "  colab_path = \"/content/stable-diffusion-webui/models/\" \n",
        "elif model_type == \"embedding\":\n",
        "  drive_path = \"/content/drive/MyDrive/Stable_Diffusion_Webui/embeddings\"\n",
        "  colab_path = \"/content/stable-diffusion-webui/\"\n",
        "elif model_type == \"lora\":\n",
        "  drive_path = \"/content/drive/MyDrive/Stable_Diffusion_Webui/Lora\"\n",
        "  colab_path = \"/content/stable-diffusion-webui/models/\"\n",
        "if model_path != \"\":\n",
        "  %cd $drive_path\n",
        "  print(\"下載模型...\")\n",
        "  !wget -nc --content-disposition $model_path\n",
        "  print(\"導入模型...\")\n",
        "  !cp -r $drive_path $colab_path"
      ],
      "metadata": {
        "cellView": "form",
        "id": "tbny5EeRt5jy"
      },
      "execution_count": null,
      "outputs": []
    },
    {
      "cell_type": "markdown",
      "source": [
        "# Extension\n",
        "請在**執行程式**之前執行所需的Extension"
      ],
      "metadata": {
        "id": "bKbbd-2gkJor"
      }
    },
    {
      "cell_type": "markdown",
      "source": [
        "## [ControlNet](https://github.com/lllyasviel/ControlNet)"
      ],
      "metadata": {
        "id": "KGvle-9nDyPf"
      }
    },
    {
      "cell_type": "code",
      "source": [
        "#@title 下載 ControlNet Extension\n",
        "%cd /content/stable-diffusion-webui/extensions\n",
        "!git clone https://github.com/Mikubill/sd-webui-controlnet"
      ],
      "metadata": {
        "cellView": "form",
        "id": "swX5BGFsD5jM"
      },
      "execution_count": null,
      "outputs": []
    },
    {
      "cell_type": "code",
      "source": [
        "#@title 導入 ControlNet 模型\n",
        "ControlNet_model = \"control_openpose\" #@param [\"control_canny\", \"control_depth\", \"control_hed\", \"control_mlsd\", \"control_normal\", \"control_openpose\", \"control_scribble\", \"control_seg\", \"t2iadapter_keypose\", \"t2iadapter_seg\", \"t2iadapter_sketch\"]\n",
        "%cd /content/stable-diffusion-webui/extensions/sd-webui-controlnet/models\n",
        "!wget -nc https://huggingface.co/webui/ControlNet-modules-safetensors/resolve/main/$ControlNet_model-fp16.safetensors"
      ],
      "metadata": {
        "cellView": "form",
        "id": "ySO08LagE8JP"
      },
      "execution_count": null,
      "outputs": []
    },
    {
      "cell_type": "markdown",
      "source": [
        "# 執行程式"
      ],
      "metadata": {
        "id": "DHsO-5uL2kov"
      }
    },
    {
      "cell_type": "code",
      "source": [
        "#@title 執行程式\n",
        "%cd /content/stable-diffusion-webui\n",
        "!COMMANDLINE_ARGS=\"--share --gradio-debug\" REQS_FILE=\"requirements.txt\" python launch.py"
      ],
      "metadata": {
        "id": "CrOXeish2j1y",
        "cellView": "form"
      },
      "execution_count": null,
      "outputs": []
    },
    {
      "cell_type": "markdown",
      "source": [
        "# 保存檔案\n",
        "先關閉**執行程式**後再使用"
      ],
      "metadata": {
        "id": "Xot59Arf2_v7"
      }
    },
    {
      "cell_type": "code",
      "source": [
        "#@title 保存圖片\n",
        "#@markdown 圖片將保存在 Stable_Diffusion_Webui 內的 outputs 資料夾中\n",
        "!cp -r /content/stable-diffusion-webui/outputs /content/drive/MyDrive/Stable_Diffusion_Webui/"
      ],
      "metadata": {
        "id": "rzMUAqnG3kfv",
        "cellView": "form"
      },
      "execution_count": null,
      "outputs": []
    },
    {
      "cell_type": "code",
      "source": [
        "#@title 保存設定檔\n",
        "!cp -r /content/stable-diffusion-webui/config.json /content/drive/MyDrive/Stable_Diffusion_Webui/\n",
        "!cp -r /content/stable-diffusion-webui/styles.csv /content/drive/MyDrive/Stable_Diffusion_Webui/"
      ],
      "metadata": {
        "id": "s2AZxn0E4D3o",
        "cellView": "form"
      },
      "execution_count": null,
      "outputs": []
    }
  ]
}